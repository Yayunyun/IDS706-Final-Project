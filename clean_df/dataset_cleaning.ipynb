{
 "cells": [
  {
   "cell_type": "code",
   "execution_count": 2,
   "metadata": {},
   "outputs": [],
   "source": [
    "import pandas as pd"
   ]
  },
  {
   "cell_type": "markdown",
   "metadata": {},
   "source": [
    "## Credit Dataset"
   ]
  },
  {
   "cell_type": "code",
   "execution_count": 3,
   "metadata": {},
   "outputs": [],
   "source": [
    "credit = pd.read_csv(\"/workspaces/IDS706-Final-Project/Datasets/tmdb_5000_credits.csv\")"
   ]
  },
  {
   "cell_type": "code",
   "execution_count": 4,
   "metadata": {},
   "outputs": [],
   "source": [
    "credit = credit.rename({\"movie_id\":\"id\"}, axis = 1)"
   ]
  },
  {
   "cell_type": "code",
   "execution_count": 5,
   "metadata": {},
   "outputs": [],
   "source": [
    "credit = credit[[\"id\",\"title\", \"cast\", \"crew\"]]"
   ]
  },
  {
   "cell_type": "code",
   "execution_count": 6,
   "metadata": {},
   "outputs": [],
   "source": [
    "credit[\"crew\"] = credit[\"crew\"].apply(eval)\n",
    "credit[\"cast\"] = credit[\"cast\"].apply(eval)"
   ]
  },
  {
   "cell_type": "code",
   "execution_count": 7,
   "metadata": {},
   "outputs": [],
   "source": [
    "director = []\n",
    "for i in range(len(credit[\"crew\"])):\n",
    "    dir = ''\n",
    "    for j in range(len(credit[\"crew\"][i])):\n",
    "        if credit[\"crew\"][i][j][\"job\"] == \"Director\":\n",
    "            dir += credit[\"crew\"][i][j][\"name\"]+','\n",
    "    \n",
    "    dir = dir.rstrip(',')\n",
    "    director.append(dir)\n",
    "credit[\"director\"]=director"
   ]
  },
  {
   "cell_type": "code",
   "execution_count": 8,
   "metadata": {},
   "outputs": [
    {
     "data": {
      "text/plain": [
       "0                              James Cameron\n",
       "1                             Gore Verbinski\n",
       "2                                 Sam Mendes\n",
       "3                          Christopher Nolan\n",
       "4                             Andrew Stanton\n",
       "                        ...                 \n",
       "4798                        Robert Rodriguez\n",
       "4799                            Edward Burns\n",
       "4800                             Scott Smith\n",
       "4801                             Daniel Hsia\n",
       "4802    Brian Herzlinger,Jon Gunn,Brett Winn\n",
       "Name: director, Length: 4803, dtype: object"
      ]
     },
     "execution_count": 8,
     "metadata": {},
     "output_type": "execute_result"
    }
   ],
   "source": [
    "credit['director']"
   ]
  },
  {
   "cell_type": "code",
   "execution_count": 9,
   "metadata": {},
   "outputs": [],
   "source": [
    "actor = []\n",
    "for i in range(len(credit[\"cast\"])):\n",
    "    act = ''\n",
    "    for j in range(len(credit[\"cast\"][i])):\n",
    "            act += credit[\"cast\"][i][j][\"name\"]+','\n",
    "    act = act.rstrip(',')\n",
    "    actor.append(act)\n",
    "credit[\"actor\"]= actor"
   ]
  },
  {
   "cell_type": "code",
   "execution_count": 10,
   "metadata": {},
   "outputs": [
    {
     "data": {
      "text/html": [
       "<div>\n",
       "<style scoped>\n",
       "    .dataframe tbody tr th:only-of-type {\n",
       "        vertical-align: middle;\n",
       "    }\n",
       "\n",
       "    .dataframe tbody tr th {\n",
       "        vertical-align: top;\n",
       "    }\n",
       "\n",
       "    .dataframe thead th {\n",
       "        text-align: right;\n",
       "    }\n",
       "</style>\n",
       "<table border=\"1\" class=\"dataframe\">\n",
       "  <thead>\n",
       "    <tr style=\"text-align: right;\">\n",
       "      <th></th>\n",
       "      <th>id</th>\n",
       "      <th>title</th>\n",
       "      <th>cast</th>\n",
       "      <th>crew</th>\n",
       "      <th>director</th>\n",
       "      <th>actor</th>\n",
       "    </tr>\n",
       "  </thead>\n",
       "  <tbody>\n",
       "    <tr>\n",
       "      <th>0</th>\n",
       "      <td>19995</td>\n",
       "      <td>Avatar</td>\n",
       "      <td>[{'cast_id': 242, 'character': 'Jake Sully', '...</td>\n",
       "      <td>[{'credit_id': '52fe48009251416c750aca23', 'de...</td>\n",
       "      <td>James Cameron</td>\n",
       "      <td>Sam Worthington,Zoe Saldana,Sigourney Weaver,S...</td>\n",
       "    </tr>\n",
       "    <tr>\n",
       "      <th>1</th>\n",
       "      <td>285</td>\n",
       "      <td>Pirates of the Caribbean: At World's End</td>\n",
       "      <td>[{'cast_id': 4, 'character': 'Captain Jack Spa...</td>\n",
       "      <td>[{'credit_id': '52fe4232c3a36847f800b579', 'de...</td>\n",
       "      <td>Gore Verbinski</td>\n",
       "      <td>Johnny Depp,Orlando Bloom,Keira Knightley,Stel...</td>\n",
       "    </tr>\n",
       "    <tr>\n",
       "      <th>2</th>\n",
       "      <td>206647</td>\n",
       "      <td>Spectre</td>\n",
       "      <td>[{'cast_id': 1, 'character': 'James Bond', 'cr...</td>\n",
       "      <td>[{'credit_id': '54805967c3a36829b5002c41', 'de...</td>\n",
       "      <td>Sam Mendes</td>\n",
       "      <td>Daniel Craig,Christoph Waltz,Léa Seydoux,Ralph...</td>\n",
       "    </tr>\n",
       "    <tr>\n",
       "      <th>3</th>\n",
       "      <td>49026</td>\n",
       "      <td>The Dark Knight Rises</td>\n",
       "      <td>[{'cast_id': 2, 'character': 'Bruce Wayne / Ba...</td>\n",
       "      <td>[{'credit_id': '52fe4781c3a36847f81398c3', 'de...</td>\n",
       "      <td>Christopher Nolan</td>\n",
       "      <td>Christian Bale,Michael Caine,Gary Oldman,Anne ...</td>\n",
       "    </tr>\n",
       "    <tr>\n",
       "      <th>4</th>\n",
       "      <td>49529</td>\n",
       "      <td>John Carter</td>\n",
       "      <td>[{'cast_id': 5, 'character': 'John Carter', 'c...</td>\n",
       "      <td>[{'credit_id': '52fe479ac3a36847f813eaa3', 'de...</td>\n",
       "      <td>Andrew Stanton</td>\n",
       "      <td>Taylor Kitsch,Lynn Collins,Samantha Morton,Wil...</td>\n",
       "    </tr>\n",
       "  </tbody>\n",
       "</table>\n",
       "</div>"
      ],
      "text/plain": [
       "       id                                     title  \\\n",
       "0   19995                                    Avatar   \n",
       "1     285  Pirates of the Caribbean: At World's End   \n",
       "2  206647                                   Spectre   \n",
       "3   49026                     The Dark Knight Rises   \n",
       "4   49529                               John Carter   \n",
       "\n",
       "                                                cast  \\\n",
       "0  [{'cast_id': 242, 'character': 'Jake Sully', '...   \n",
       "1  [{'cast_id': 4, 'character': 'Captain Jack Spa...   \n",
       "2  [{'cast_id': 1, 'character': 'James Bond', 'cr...   \n",
       "3  [{'cast_id': 2, 'character': 'Bruce Wayne / Ba...   \n",
       "4  [{'cast_id': 5, 'character': 'John Carter', 'c...   \n",
       "\n",
       "                                                crew           director  \\\n",
       "0  [{'credit_id': '52fe48009251416c750aca23', 'de...      James Cameron   \n",
       "1  [{'credit_id': '52fe4232c3a36847f800b579', 'de...     Gore Verbinski   \n",
       "2  [{'credit_id': '54805967c3a36829b5002c41', 'de...         Sam Mendes   \n",
       "3  [{'credit_id': '52fe4781c3a36847f81398c3', 'de...  Christopher Nolan   \n",
       "4  [{'credit_id': '52fe479ac3a36847f813eaa3', 'de...     Andrew Stanton   \n",
       "\n",
       "                                               actor  \n",
       "0  Sam Worthington,Zoe Saldana,Sigourney Weaver,S...  \n",
       "1  Johnny Depp,Orlando Bloom,Keira Knightley,Stel...  \n",
       "2  Daniel Craig,Christoph Waltz,Léa Seydoux,Ralph...  \n",
       "3  Christian Bale,Michael Caine,Gary Oldman,Anne ...  \n",
       "4  Taylor Kitsch,Lynn Collins,Samantha Morton,Wil...  "
      ]
     },
     "execution_count": 10,
     "metadata": {},
     "output_type": "execute_result"
    }
   ],
   "source": [
    "credit.head()"
   ]
  },
  {
   "cell_type": "markdown",
   "metadata": {},
   "source": [
    "## Movie Datset"
   ]
  },
  {
   "cell_type": "code",
   "execution_count": 29,
   "metadata": {},
   "outputs": [],
   "source": [
    "movie = pd.read_csv(\"/workspaces/IDS706-Final-Project/Datasets/tmdb_5000_movies.csv\")"
   ]
  },
  {
   "cell_type": "code",
   "execution_count": 30,
   "metadata": {},
   "outputs": [
    {
     "data": {
      "text/plain": [
       "Index(['budget', 'genres', 'homepage', 'id', 'keywords', 'original_language',\n",
       "       'original_title', 'overview', 'popularity', 'production_companies',\n",
       "       'production_countries', 'release_date', 'revenue', 'runtime',\n",
       "       'spoken_languages', 'status', 'tagline', 'title', 'vote_average',\n",
       "       'vote_count'],\n",
       "      dtype='object')"
      ]
     },
     "execution_count": 30,
     "metadata": {},
     "output_type": "execute_result"
    }
   ],
   "source": [
    "movie.columns"
   ]
  },
  {
   "cell_type": "code",
   "execution_count": 31,
   "metadata": {},
   "outputs": [],
   "source": [
    "movie = movie[[\"id\", \"genres\", \"keywords\",\"overview\", \"popularity\",'production_countries', \"release_date\", \"vote_average\", \"vote_count\", \"runtime\"]]"
   ]
  },
  {
   "cell_type": "code",
   "execution_count": 32,
   "metadata": {},
   "outputs": [],
   "source": [
    "movie[\"genres\"] = movie[\"genres\"].apply(eval)\n",
    "movie[\"keywords\"] = movie[\"keywords\"].apply(eval)\n",
    "movie[\"production_countries\"] = movie[\"production_countries\"].apply(eval)"
   ]
  },
  {
   "cell_type": "code",
   "execution_count": 24,
   "metadata": {},
   "outputs": [
    {
     "data": {
      "text/plain": [
       "[{'id': 28, 'name': 'Action'},\n",
       " {'id': 12, 'name': 'Adventure'},\n",
       " {'id': 14, 'name': 'Fantasy'},\n",
       " {'id': 878, 'name': 'Science Fiction'}]"
      ]
     },
     "execution_count": 24,
     "metadata": {},
     "output_type": "execute_result"
    }
   ],
   "source": [
    "movie[\"genres\"] [0]"
   ]
  },
  {
   "cell_type": "code",
   "execution_count": 33,
   "metadata": {},
   "outputs": [],
   "source": [
    "genre = []\n",
    "for i in range(len(movie[\"genres\"])):\n",
    "    gen = ''\n",
    "    for j in range(len(movie[\"genres\"][i])):\n",
    "            gen += movie[\"genres\"][i][j][\"name\"]+','\n",
    "    gen = gen.rstrip(',')\n",
    "    genre.append(gen)\n",
    "movie[\"genres_list\"] = genre"
   ]
  },
  {
   "cell_type": "code",
   "execution_count": 34,
   "metadata": {},
   "outputs": [],
   "source": [
    "keys = []\n",
    "for i in range(len(movie[\"keywords\"])):\n",
    "    key = ''\n",
    "    for j in range(len(movie[\"keywords\"][i])):\n",
    "            key += movie[\"keywords\"][i][j][\"name\"]+','\n",
    "    key = key.rstrip(',')\n",
    "    keys.append(key)\n",
    "movie[\"key\"] = keys"
   ]
  },
  {
   "cell_type": "code",
   "execution_count": 35,
   "metadata": {},
   "outputs": [],
   "source": [
    "country = []\n",
    "for i in range(len(movie[\"production_countries\"])):\n",
    "    key = ''\n",
    "    for j in range(len(movie[\"production_countries\"][i])):\n",
    "            key += movie[\"production_countries\"][i][j][\"name\"]+','\n",
    "    key = key.rstrip(',')\n",
    "    country.append(key)\n",
    "movie[\"country\"] = country"
   ]
  },
  {
   "cell_type": "code",
   "execution_count": 36,
   "metadata": {},
   "outputs": [],
   "source": [
    "movie['year'] = pd.DatetimeIndex(movie['release_date']).year\n",
    "movie['year'] = movie['year']-min(movie['year'])"
   ]
  },
  {
   "cell_type": "code",
   "execution_count": null,
   "metadata": {},
   "outputs": [],
   "source": [
    "\"True\" in movie.year.isnull()"
   ]
  },
  {
   "cell_type": "code",
   "execution_count": 37,
   "metadata": {},
   "outputs": [
    {
     "data": {
      "text/html": [
       "<div>\n",
       "<style scoped>\n",
       "    .dataframe tbody tr th:only-of-type {\n",
       "        vertical-align: middle;\n",
       "    }\n",
       "\n",
       "    .dataframe tbody tr th {\n",
       "        vertical-align: top;\n",
       "    }\n",
       "\n",
       "    .dataframe thead th {\n",
       "        text-align: right;\n",
       "    }\n",
       "</style>\n",
       "<table border=\"1\" class=\"dataframe\">\n",
       "  <thead>\n",
       "    <tr style=\"text-align: right;\">\n",
       "      <th></th>\n",
       "      <th>id</th>\n",
       "      <th>genres</th>\n",
       "      <th>keywords</th>\n",
       "      <th>overview</th>\n",
       "      <th>popularity</th>\n",
       "      <th>production_countries</th>\n",
       "      <th>release_date</th>\n",
       "      <th>vote_average</th>\n",
       "      <th>vote_count</th>\n",
       "      <th>runtime</th>\n",
       "      <th>genres_list</th>\n",
       "      <th>key</th>\n",
       "      <th>country</th>\n",
       "      <th>year</th>\n",
       "    </tr>\n",
       "  </thead>\n",
       "  <tbody>\n",
       "    <tr>\n",
       "      <th>0</th>\n",
       "      <td>19995</td>\n",
       "      <td>[{'id': 28, 'name': 'Action'}, {'id': 12, 'nam...</td>\n",
       "      <td>[{'id': 1463, 'name': 'culture clash'}, {'id':...</td>\n",
       "      <td>In the 22nd century, a paraplegic Marine is di...</td>\n",
       "      <td>150.437577</td>\n",
       "      <td>[{'iso_3166_1': 'US', 'name': 'United States o...</td>\n",
       "      <td>2009-12-10</td>\n",
       "      <td>7.2</td>\n",
       "      <td>11800</td>\n",
       "      <td>162.0</td>\n",
       "      <td>Action,Adventure,Fantasy,Science Fiction</td>\n",
       "      <td>culture clash,future,space war,space colony,so...</td>\n",
       "      <td>United States of America,United Kingdom</td>\n",
       "      <td>93.0</td>\n",
       "    </tr>\n",
       "    <tr>\n",
       "      <th>1</th>\n",
       "      <td>285</td>\n",
       "      <td>[{'id': 12, 'name': 'Adventure'}, {'id': 14, '...</td>\n",
       "      <td>[{'id': 270, 'name': 'ocean'}, {'id': 726, 'na...</td>\n",
       "      <td>Captain Barbossa, long believed to be dead, ha...</td>\n",
       "      <td>139.082615</td>\n",
       "      <td>[{'iso_3166_1': 'US', 'name': 'United States o...</td>\n",
       "      <td>2007-05-19</td>\n",
       "      <td>6.9</td>\n",
       "      <td>4500</td>\n",
       "      <td>169.0</td>\n",
       "      <td>Adventure,Fantasy,Action</td>\n",
       "      <td>ocean,drug abuse,exotic island,east india trad...</td>\n",
       "      <td>United States of America</td>\n",
       "      <td>91.0</td>\n",
       "    </tr>\n",
       "    <tr>\n",
       "      <th>2</th>\n",
       "      <td>206647</td>\n",
       "      <td>[{'id': 28, 'name': 'Action'}, {'id': 12, 'nam...</td>\n",
       "      <td>[{'id': 470, 'name': 'spy'}, {'id': 818, 'name...</td>\n",
       "      <td>A cryptic message from Bond’s past sends him o...</td>\n",
       "      <td>107.376788</td>\n",
       "      <td>[{'iso_3166_1': 'GB', 'name': 'United Kingdom'...</td>\n",
       "      <td>2015-10-26</td>\n",
       "      <td>6.3</td>\n",
       "      <td>4466</td>\n",
       "      <td>148.0</td>\n",
       "      <td>Action,Adventure,Crime</td>\n",
       "      <td>spy,based on novel,secret agent,sequel,mi6,bri...</td>\n",
       "      <td>United Kingdom,United States of America</td>\n",
       "      <td>99.0</td>\n",
       "    </tr>\n",
       "  </tbody>\n",
       "</table>\n",
       "</div>"
      ],
      "text/plain": [
       "       id                                             genres  \\\n",
       "0   19995  [{'id': 28, 'name': 'Action'}, {'id': 12, 'nam...   \n",
       "1     285  [{'id': 12, 'name': 'Adventure'}, {'id': 14, '...   \n",
       "2  206647  [{'id': 28, 'name': 'Action'}, {'id': 12, 'nam...   \n",
       "\n",
       "                                            keywords  \\\n",
       "0  [{'id': 1463, 'name': 'culture clash'}, {'id':...   \n",
       "1  [{'id': 270, 'name': 'ocean'}, {'id': 726, 'na...   \n",
       "2  [{'id': 470, 'name': 'spy'}, {'id': 818, 'name...   \n",
       "\n",
       "                                            overview  popularity  \\\n",
       "0  In the 22nd century, a paraplegic Marine is di...  150.437577   \n",
       "1  Captain Barbossa, long believed to be dead, ha...  139.082615   \n",
       "2  A cryptic message from Bond’s past sends him o...  107.376788   \n",
       "\n",
       "                                production_countries release_date  \\\n",
       "0  [{'iso_3166_1': 'US', 'name': 'United States o...   2009-12-10   \n",
       "1  [{'iso_3166_1': 'US', 'name': 'United States o...   2007-05-19   \n",
       "2  [{'iso_3166_1': 'GB', 'name': 'United Kingdom'...   2015-10-26   \n",
       "\n",
       "   vote_average  vote_count  runtime  \\\n",
       "0           7.2       11800    162.0   \n",
       "1           6.9        4500    169.0   \n",
       "2           6.3        4466    148.0   \n",
       "\n",
       "                                genres_list  \\\n",
       "0  Action,Adventure,Fantasy,Science Fiction   \n",
       "1                  Adventure,Fantasy,Action   \n",
       "2                    Action,Adventure,Crime   \n",
       "\n",
       "                                                 key  \\\n",
       "0  culture clash,future,space war,space colony,so...   \n",
       "1  ocean,drug abuse,exotic island,east india trad...   \n",
       "2  spy,based on novel,secret agent,sequel,mi6,bri...   \n",
       "\n",
       "                                   country  year  \n",
       "0  United States of America,United Kingdom  93.0  \n",
       "1                 United States of America  91.0  \n",
       "2  United Kingdom,United States of America  99.0  "
      ]
     },
     "execution_count": 37,
     "metadata": {},
     "output_type": "execute_result"
    }
   ],
   "source": [
    "movie.head(3)"
   ]
  },
  {
   "cell_type": "code",
   "execution_count": null,
   "metadata": {},
   "outputs": [],
   "source": [
    "credit.head(3)"
   ]
  },
  {
   "cell_type": "code",
   "execution_count": 40,
   "metadata": {},
   "outputs": [],
   "source": [
    "df = credit.merge(movie, how = \"left\")"
   ]
  },
  {
   "cell_type": "code",
   "execution_count": 39,
   "metadata": {},
   "outputs": [],
   "source": [
    "df = df.drop([\"cast\", \"crew\", \"genres\", \"keywords\", \"release_date\",\"production_countries\"], axis = 1)"
   ]
  },
  {
   "cell_type": "code",
   "execution_count": null,
   "metadata": {},
   "outputs": [],
   "source": [
    "df.to_csv(\"/workspaces/IDS706-Final-Project/clean_df/clean_df.csv\")"
   ]
  },
  {
   "cell_type": "code",
   "execution_count": null,
   "metadata": {},
   "outputs": [],
   "source": [
    "df = pd.read_csv(\"/Users/emma/IDS706-Final-Project/clean_df.csv\")"
   ]
  }
 ],
 "metadata": {
  "kernelspec": {
   "display_name": "env",
   "language": "python",
   "name": "python3"
  },
  "language_info": {
   "codemirror_mode": {
    "name": "ipython",
    "version": 3
   },
   "file_extension": ".py",
   "mimetype": "text/x-python",
   "name": "python",
   "nbconvert_exporter": "python",
   "pygments_lexer": "ipython3",
   "version": "3.10.4 (main, Nov 29 2022, 20:00:25) [GCC 9.4.0]"
  },
  "orig_nbformat": 4,
  "vscode": {
   "interpreter": {
    "hash": "849389c4839361bf72fb7e8d4d6756765439fa05b5bf20dcea1aa4759701de55"
   }
  }
 },
 "nbformat": 4,
 "nbformat_minor": 2
}
