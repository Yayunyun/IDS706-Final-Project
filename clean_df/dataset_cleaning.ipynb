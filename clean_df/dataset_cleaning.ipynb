{
 "cells": [
  {
   "cell_type": "code",
   "execution_count": 3,
   "metadata": {},
   "outputs": [],
   "source": [
    "import pandas as pd"
   ]
  },
  {
   "cell_type": "markdown",
   "metadata": {},
   "source": [
    "## Credit Dataset"
   ]
  },
  {
   "cell_type": "code",
   "execution_count": 4,
   "metadata": {},
   "outputs": [],
   "source": [
    "credit = pd.read_csv(\"/Users/emma/IDS706-Final-Project/Datasets/tmdb_5000_credits.csv\")"
   ]
  },
  {
   "cell_type": "code",
   "execution_count": 5,
   "metadata": {},
   "outputs": [],
   "source": [
    "credit = credit.rename({\"movie_id\":\"id\"}, axis = 1)"
   ]
  },
  {
   "cell_type": "code",
   "execution_count": 6,
   "metadata": {},
   "outputs": [],
   "source": [
    "credit = credit[[\"id\",\"title\", \"cast\", \"crew\"]]"
   ]
  },
  {
   "cell_type": "code",
   "execution_count": 7,
   "metadata": {},
   "outputs": [],
   "source": [
    "credit[\"crew\"] = credit[\"crew\"].apply(eval)\n",
    "credit[\"cast\"] = credit[\"cast\"].apply(eval)"
   ]
  },
  {
   "cell_type": "code",
   "execution_count": 8,
   "metadata": {},
   "outputs": [],
   "source": [
    "director = []\n",
    "for i in range(len(credit[\"crew\"])):\n",
    "    dir = []\n",
    "    for j in range(len(credit[\"crew\"][i])):\n",
    "        if credit[\"crew\"][i][j][\"job\"] == \"Director\":\n",
    "            dir.append(credit[\"crew\"][i][j][\"name\"])\n",
    "    director.append(dir)\n",
    "credit[\"director\"]=director"
   ]
  },
  {
   "cell_type": "code",
   "execution_count": 9,
   "metadata": {},
   "outputs": [
    {
     "data": {
      "text/html": [
       "<div>\n",
       "<style scoped>\n",
       "    .dataframe tbody tr th:only-of-type {\n",
       "        vertical-align: middle;\n",
       "    }\n",
       "\n",
       "    .dataframe tbody tr th {\n",
       "        vertical-align: top;\n",
       "    }\n",
       "\n",
       "    .dataframe thead th {\n",
       "        text-align: right;\n",
       "    }\n",
       "</style>\n",
       "<table border=\"1\" class=\"dataframe\">\n",
       "  <thead>\n",
       "    <tr style=\"text-align: right;\">\n",
       "      <th></th>\n",
       "      <th>id</th>\n",
       "      <th>title</th>\n",
       "      <th>cast</th>\n",
       "      <th>crew</th>\n",
       "      <th>director</th>\n",
       "    </tr>\n",
       "  </thead>\n",
       "  <tbody>\n",
       "    <tr>\n",
       "      <th>3195</th>\n",
       "      <td>39806</td>\n",
       "      <td>Princess Kaiulani</td>\n",
       "      <td>[{'cast_id': 2, 'character': 'Princess Ka'iula...</td>\n",
       "      <td>[{'credit_id': '52fe47329251416c9106d347', 'de...</td>\n",
       "      <td>[Marc Forby]</td>\n",
       "    </tr>\n",
       "    <tr>\n",
       "      <th>278</th>\n",
       "      <td>869</td>\n",
       "      <td>Planet of the Apes</td>\n",
       "      <td>[{'cast_id': 1, 'character': 'Leo Davidson', '...</td>\n",
       "      <td>[{'credit_id': '52fe4285c3a36847f8025527', 'de...</td>\n",
       "      <td>[Tim Burton]</td>\n",
       "    </tr>\n",
       "    <tr>\n",
       "      <th>1969</th>\n",
       "      <td>2621</td>\n",
       "      <td>Return to Me</td>\n",
       "      <td>[{'cast_id': 3, 'character': 'Bob Rueland', 'c...</td>\n",
       "      <td>[{'credit_id': '52fe4360c3a36847f804fb99', 'de...</td>\n",
       "      <td>[Bonnie Hunt]</td>\n",
       "    </tr>\n",
       "    <tr>\n",
       "      <th>1482</th>\n",
       "      <td>71469</td>\n",
       "      <td>The Darkest Hour</td>\n",
       "      <td>[{'cast_id': 1, 'character': 'Sean', 'credit_i...</td>\n",
       "      <td>[{'credit_id': '54c3aec5c3a3687c4001024a', 'de...</td>\n",
       "      <td>[Chris Gorak]</td>\n",
       "    </tr>\n",
       "    <tr>\n",
       "      <th>4636</th>\n",
       "      <td>44490</td>\n",
       "      <td>Chuck &amp; Buck</td>\n",
       "      <td>[{'cast_id': 1, 'character': 'Buck O'Brien', '...</td>\n",
       "      <td>[{'credit_id': '53463de60e0a265fe6000f2b', 'de...</td>\n",
       "      <td>[Miguel Arteta]</td>\n",
       "    </tr>\n",
       "    <tr>\n",
       "      <th>4782</th>\n",
       "      <td>17345</td>\n",
       "      <td>Flywheel</td>\n",
       "      <td>[{'cast_id': 1, 'character': 'Jay', 'credit_id...</td>\n",
       "      <td>[{'credit_id': '52fe471e9251416c7508e579', 'de...</td>\n",
       "      <td>[Alex Kendrick]</td>\n",
       "    </tr>\n",
       "    <tr>\n",
       "      <th>2146</th>\n",
       "      <td>19904</td>\n",
       "      <td>The Stepfather</td>\n",
       "      <td>[{'cast_id': 7, 'character': 'David Harris', '...</td>\n",
       "      <td>[{'credit_id': '52fe47f79251416c750ab845', 'de...</td>\n",
       "      <td>[Nelson McCormick]</td>\n",
       "    </tr>\n",
       "    <tr>\n",
       "      <th>1874</th>\n",
       "      <td>5123</td>\n",
       "      <td>August Rush</td>\n",
       "      <td>[{'cast_id': 12, 'character': 'August Rush', '...</td>\n",
       "      <td>[{'credit_id': '52fe43f5c3a36847f807a60d', 'de...</td>\n",
       "      <td>[Kirsten Sheridan]</td>\n",
       "    </tr>\n",
       "    <tr>\n",
       "      <th>4284</th>\n",
       "      <td>23730</td>\n",
       "      <td>C.H.U.D.</td>\n",
       "      <td>[{'cast_id': 1, 'character': 'George Cooper', ...</td>\n",
       "      <td>[{'credit_id': '56432b319251410a3f001821', 'de...</td>\n",
       "      <td>[Douglas Cheek]</td>\n",
       "    </tr>\n",
       "    <tr>\n",
       "      <th>1026</th>\n",
       "      <td>11091</td>\n",
       "      <td>Riding in Cars with Boys</td>\n",
       "      <td>[{'cast_id': 1, 'character': 'Beverly Donofrio...</td>\n",
       "      <td>[{'credit_id': '52fe43f59251416c75024339', 'de...</td>\n",
       "      <td>[Penny Marshall]</td>\n",
       "    </tr>\n",
       "    <tr>\n",
       "      <th>4057</th>\n",
       "      <td>43610</td>\n",
       "      <td>The Valley of Decision</td>\n",
       "      <td>[{'cast_id': 9, 'character': 'Mary Rafferty', ...</td>\n",
       "      <td>[{'credit_id': '52fe4654c3a36847f80f922d', 'de...</td>\n",
       "      <td>[Tay Garnett]</td>\n",
       "    </tr>\n",
       "    <tr>\n",
       "      <th>2713</th>\n",
       "      <td>16005</td>\n",
       "      <td>The Lucky Ones</td>\n",
       "      <td>[{'cast_id': 4, 'character': 'Fred Cheaver', '...</td>\n",
       "      <td>[{'credit_id': '553e37dbc3a3687db1003063', 'de...</td>\n",
       "      <td>[Neil Burger]</td>\n",
       "    </tr>\n",
       "    <tr>\n",
       "      <th>2021</th>\n",
       "      <td>13680</td>\n",
       "      <td>The Game Plan</td>\n",
       "      <td>[{'cast_id': 1, 'character': 'Joe Kingman', 'c...</td>\n",
       "      <td>[{'credit_id': '56347f52c3a3681b5c017375', 'de...</td>\n",
       "      <td>[Andy Fickman]</td>\n",
       "    </tr>\n",
       "    <tr>\n",
       "      <th>3220</th>\n",
       "      <td>150202</td>\n",
       "      <td>The Haunting in Connecticut 2: Ghosts of Georgia</td>\n",
       "      <td>[{'cast_id': 3, 'character': '', 'credit_id': ...</td>\n",
       "      <td>[{'credit_id': '52fe4adb9251416c910c80b1', 'de...</td>\n",
       "      <td>[Tom Elkins]</td>\n",
       "    </tr>\n",
       "    <tr>\n",
       "      <th>2213</th>\n",
       "      <td>2639</td>\n",
       "      <td>Deconstructing Harry</td>\n",
       "      <td>[{'cast_id': 1, 'character': 'Harry Block', 'c...</td>\n",
       "      <td>[{'credit_id': '52fe4361c3a36847f804fef1', 'de...</td>\n",
       "      <td>[Woody Allen]</td>\n",
       "    </tr>\n",
       "    <tr>\n",
       "      <th>2490</th>\n",
       "      <td>8009</td>\n",
       "      <td>Highlander</td>\n",
       "      <td>[{'cast_id': 1, 'character': 'Connor 'The High...</td>\n",
       "      <td>[{'credit_id': '576be048c3a36863d1002f5e', 'de...</td>\n",
       "      <td>[Russell Mulcahy]</td>\n",
       "    </tr>\n",
       "    <tr>\n",
       "      <th>4008</th>\n",
       "      <td>139038</td>\n",
       "      <td>A Haunted House</td>\n",
       "      <td>[{'cast_id': 9, 'character': 'Malcolm', 'credi...</td>\n",
       "      <td>[{'credit_id': '52fe4c5ac3a368484e1b3f2f', 'de...</td>\n",
       "      <td>[Michael Tiddes]</td>\n",
       "    </tr>\n",
       "    <tr>\n",
       "      <th>3007</th>\n",
       "      <td>10135</td>\n",
       "      <td>Road House</td>\n",
       "      <td>[{'cast_id': 1, 'character': 'James Dalton', '...</td>\n",
       "      <td>[{'credit_id': '52fe43319251416c75007087', 'de...</td>\n",
       "      <td>[Rowdy Herrington]</td>\n",
       "    </tr>\n",
       "    <tr>\n",
       "      <th>4344</th>\n",
       "      <td>10643</td>\n",
       "      <td>Godzilla 2000</td>\n",
       "      <td>[{'cast_id': 1, 'character': 'Yuji Shinoda', '...</td>\n",
       "      <td>[{'credit_id': '52fe439a9251416c75016e23', 'de...</td>\n",
       "      <td>[Takao Okawara]</td>\n",
       "    </tr>\n",
       "    <tr>\n",
       "      <th>865</th>\n",
       "      <td>11321</td>\n",
       "      <td>Seven Pounds</td>\n",
       "      <td>[{'cast_id': 14, 'character': 'Ben', 'credit_i...</td>\n",
       "      <td>[{'credit_id': '558ac5eec3a36821040036a2', 'de...</td>\n",
       "      <td>[Gabriele Muccino]</td>\n",
       "    </tr>\n",
       "  </tbody>\n",
       "</table>\n",
       "</div>"
      ],
      "text/plain": [
       "          id                                             title  \\\n",
       "3195   39806                                 Princess Kaiulani   \n",
       "278      869                                Planet of the Apes   \n",
       "1969    2621                                      Return to Me   \n",
       "1482   71469                                  The Darkest Hour   \n",
       "4636   44490                                      Chuck & Buck   \n",
       "4782   17345                                          Flywheel   \n",
       "2146   19904                                    The Stepfather   \n",
       "1874    5123                                       August Rush   \n",
       "4284   23730                                          C.H.U.D.   \n",
       "1026   11091                          Riding in Cars with Boys   \n",
       "4057   43610                            The Valley of Decision   \n",
       "2713   16005                                    The Lucky Ones   \n",
       "2021   13680                                     The Game Plan   \n",
       "3220  150202  The Haunting in Connecticut 2: Ghosts of Georgia   \n",
       "2213    2639                              Deconstructing Harry   \n",
       "2490    8009                                        Highlander   \n",
       "4008  139038                                   A Haunted House   \n",
       "3007   10135                                        Road House   \n",
       "4344   10643                                     Godzilla 2000   \n",
       "865    11321                                      Seven Pounds   \n",
       "\n",
       "                                                   cast  \\\n",
       "3195  [{'cast_id': 2, 'character': 'Princess Ka'iula...   \n",
       "278   [{'cast_id': 1, 'character': 'Leo Davidson', '...   \n",
       "1969  [{'cast_id': 3, 'character': 'Bob Rueland', 'c...   \n",
       "1482  [{'cast_id': 1, 'character': 'Sean', 'credit_i...   \n",
       "4636  [{'cast_id': 1, 'character': 'Buck O'Brien', '...   \n",
       "4782  [{'cast_id': 1, 'character': 'Jay', 'credit_id...   \n",
       "2146  [{'cast_id': 7, 'character': 'David Harris', '...   \n",
       "1874  [{'cast_id': 12, 'character': 'August Rush', '...   \n",
       "4284  [{'cast_id': 1, 'character': 'George Cooper', ...   \n",
       "1026  [{'cast_id': 1, 'character': 'Beverly Donofrio...   \n",
       "4057  [{'cast_id': 9, 'character': 'Mary Rafferty', ...   \n",
       "2713  [{'cast_id': 4, 'character': 'Fred Cheaver', '...   \n",
       "2021  [{'cast_id': 1, 'character': 'Joe Kingman', 'c...   \n",
       "3220  [{'cast_id': 3, 'character': '', 'credit_id': ...   \n",
       "2213  [{'cast_id': 1, 'character': 'Harry Block', 'c...   \n",
       "2490  [{'cast_id': 1, 'character': 'Connor 'The High...   \n",
       "4008  [{'cast_id': 9, 'character': 'Malcolm', 'credi...   \n",
       "3007  [{'cast_id': 1, 'character': 'James Dalton', '...   \n",
       "4344  [{'cast_id': 1, 'character': 'Yuji Shinoda', '...   \n",
       "865   [{'cast_id': 14, 'character': 'Ben', 'credit_i...   \n",
       "\n",
       "                                                   crew            director  \n",
       "3195  [{'credit_id': '52fe47329251416c9106d347', 'de...        [Marc Forby]  \n",
       "278   [{'credit_id': '52fe4285c3a36847f8025527', 'de...        [Tim Burton]  \n",
       "1969  [{'credit_id': '52fe4360c3a36847f804fb99', 'de...       [Bonnie Hunt]  \n",
       "1482  [{'credit_id': '54c3aec5c3a3687c4001024a', 'de...       [Chris Gorak]  \n",
       "4636  [{'credit_id': '53463de60e0a265fe6000f2b', 'de...     [Miguel Arteta]  \n",
       "4782  [{'credit_id': '52fe471e9251416c7508e579', 'de...     [Alex Kendrick]  \n",
       "2146  [{'credit_id': '52fe47f79251416c750ab845', 'de...  [Nelson McCormick]  \n",
       "1874  [{'credit_id': '52fe43f5c3a36847f807a60d', 'de...  [Kirsten Sheridan]  \n",
       "4284  [{'credit_id': '56432b319251410a3f001821', 'de...     [Douglas Cheek]  \n",
       "1026  [{'credit_id': '52fe43f59251416c75024339', 'de...    [Penny Marshall]  \n",
       "4057  [{'credit_id': '52fe4654c3a36847f80f922d', 'de...       [Tay Garnett]  \n",
       "2713  [{'credit_id': '553e37dbc3a3687db1003063', 'de...       [Neil Burger]  \n",
       "2021  [{'credit_id': '56347f52c3a3681b5c017375', 'de...      [Andy Fickman]  \n",
       "3220  [{'credit_id': '52fe4adb9251416c910c80b1', 'de...        [Tom Elkins]  \n",
       "2213  [{'credit_id': '52fe4361c3a36847f804fef1', 'de...       [Woody Allen]  \n",
       "2490  [{'credit_id': '576be048c3a36863d1002f5e', 'de...   [Russell Mulcahy]  \n",
       "4008  [{'credit_id': '52fe4c5ac3a368484e1b3f2f', 'de...    [Michael Tiddes]  \n",
       "3007  [{'credit_id': '52fe43319251416c75007087', 'de...  [Rowdy Herrington]  \n",
       "4344  [{'credit_id': '52fe439a9251416c75016e23', 'de...     [Takao Okawara]  \n",
       "865   [{'credit_id': '558ac5eec3a36821040036a2', 'de...  [Gabriele Muccino]  "
      ]
     },
     "execution_count": 9,
     "metadata": {},
     "output_type": "execute_result"
    }
   ],
   "source": [
    "credit.sample(20)"
   ]
  },
  {
   "cell_type": "code",
   "execution_count": 10,
   "metadata": {},
   "outputs": [],
   "source": [
    "actor = []\n",
    "for i in range(len(credit[\"cast\"])):\n",
    "    act = []\n",
    "    for j in range(len(credit[\"cast\"][i])):\n",
    "            act.append(credit[\"cast\"][i][j][\"name\"])\n",
    "    actor.append(act)\n",
    "credit[\"actor\"]= actor"
   ]
  },
  {
   "cell_type": "code",
   "execution_count": 11,
   "metadata": {},
   "outputs": [
    {
     "data": {
      "text/html": [
       "<div>\n",
       "<style scoped>\n",
       "    .dataframe tbody tr th:only-of-type {\n",
       "        vertical-align: middle;\n",
       "    }\n",
       "\n",
       "    .dataframe tbody tr th {\n",
       "        vertical-align: top;\n",
       "    }\n",
       "\n",
       "    .dataframe thead th {\n",
       "        text-align: right;\n",
       "    }\n",
       "</style>\n",
       "<table border=\"1\" class=\"dataframe\">\n",
       "  <thead>\n",
       "    <tr style=\"text-align: right;\">\n",
       "      <th></th>\n",
       "      <th>id</th>\n",
       "      <th>title</th>\n",
       "      <th>cast</th>\n",
       "      <th>crew</th>\n",
       "      <th>director</th>\n",
       "      <th>actor</th>\n",
       "    </tr>\n",
       "  </thead>\n",
       "  <tbody>\n",
       "    <tr>\n",
       "      <th>0</th>\n",
       "      <td>19995</td>\n",
       "      <td>Avatar</td>\n",
       "      <td>[{'cast_id': 242, 'character': 'Jake Sully', '...</td>\n",
       "      <td>[{'credit_id': '52fe48009251416c750aca23', 'de...</td>\n",
       "      <td>[James Cameron]</td>\n",
       "      <td>[Sam Worthington, Zoe Saldana, Sigourney Weave...</td>\n",
       "    </tr>\n",
       "    <tr>\n",
       "      <th>1</th>\n",
       "      <td>285</td>\n",
       "      <td>Pirates of the Caribbean: At World's End</td>\n",
       "      <td>[{'cast_id': 4, 'character': 'Captain Jack Spa...</td>\n",
       "      <td>[{'credit_id': '52fe4232c3a36847f800b579', 'de...</td>\n",
       "      <td>[Gore Verbinski]</td>\n",
       "      <td>[Johnny Depp, Orlando Bloom, Keira Knightley, ...</td>\n",
       "    </tr>\n",
       "    <tr>\n",
       "      <th>2</th>\n",
       "      <td>206647</td>\n",
       "      <td>Spectre</td>\n",
       "      <td>[{'cast_id': 1, 'character': 'James Bond', 'cr...</td>\n",
       "      <td>[{'credit_id': '54805967c3a36829b5002c41', 'de...</td>\n",
       "      <td>[Sam Mendes]</td>\n",
       "      <td>[Daniel Craig, Christoph Waltz, Léa Seydoux, R...</td>\n",
       "    </tr>\n",
       "    <tr>\n",
       "      <th>3</th>\n",
       "      <td>49026</td>\n",
       "      <td>The Dark Knight Rises</td>\n",
       "      <td>[{'cast_id': 2, 'character': 'Bruce Wayne / Ba...</td>\n",
       "      <td>[{'credit_id': '52fe4781c3a36847f81398c3', 'de...</td>\n",
       "      <td>[Christopher Nolan]</td>\n",
       "      <td>[Christian Bale, Michael Caine, Gary Oldman, A...</td>\n",
       "    </tr>\n",
       "    <tr>\n",
       "      <th>4</th>\n",
       "      <td>49529</td>\n",
       "      <td>John Carter</td>\n",
       "      <td>[{'cast_id': 5, 'character': 'John Carter', 'c...</td>\n",
       "      <td>[{'credit_id': '52fe479ac3a36847f813eaa3', 'de...</td>\n",
       "      <td>[Andrew Stanton]</td>\n",
       "      <td>[Taylor Kitsch, Lynn Collins, Samantha Morton,...</td>\n",
       "    </tr>\n",
       "  </tbody>\n",
       "</table>\n",
       "</div>"
      ],
      "text/plain": [
       "       id                                     title  \\\n",
       "0   19995                                    Avatar   \n",
       "1     285  Pirates of the Caribbean: At World's End   \n",
       "2  206647                                   Spectre   \n",
       "3   49026                     The Dark Knight Rises   \n",
       "4   49529                               John Carter   \n",
       "\n",
       "                                                cast  \\\n",
       "0  [{'cast_id': 242, 'character': 'Jake Sully', '...   \n",
       "1  [{'cast_id': 4, 'character': 'Captain Jack Spa...   \n",
       "2  [{'cast_id': 1, 'character': 'James Bond', 'cr...   \n",
       "3  [{'cast_id': 2, 'character': 'Bruce Wayne / Ba...   \n",
       "4  [{'cast_id': 5, 'character': 'John Carter', 'c...   \n",
       "\n",
       "                                                crew             director  \\\n",
       "0  [{'credit_id': '52fe48009251416c750aca23', 'de...      [James Cameron]   \n",
       "1  [{'credit_id': '52fe4232c3a36847f800b579', 'de...     [Gore Verbinski]   \n",
       "2  [{'credit_id': '54805967c3a36829b5002c41', 'de...         [Sam Mendes]   \n",
       "3  [{'credit_id': '52fe4781c3a36847f81398c3', 'de...  [Christopher Nolan]   \n",
       "4  [{'credit_id': '52fe479ac3a36847f813eaa3', 'de...     [Andrew Stanton]   \n",
       "\n",
       "                                               actor  \n",
       "0  [Sam Worthington, Zoe Saldana, Sigourney Weave...  \n",
       "1  [Johnny Depp, Orlando Bloom, Keira Knightley, ...  \n",
       "2  [Daniel Craig, Christoph Waltz, Léa Seydoux, R...  \n",
       "3  [Christian Bale, Michael Caine, Gary Oldman, A...  \n",
       "4  [Taylor Kitsch, Lynn Collins, Samantha Morton,...  "
      ]
     },
     "execution_count": 11,
     "metadata": {},
     "output_type": "execute_result"
    }
   ],
   "source": [
    "credit.head()"
   ]
  },
  {
   "cell_type": "markdown",
   "metadata": {},
   "source": [
    "## Movie Datset"
   ]
  },
  {
   "cell_type": "code",
   "execution_count": 12,
   "metadata": {},
   "outputs": [],
   "source": [
    "movie = pd.read_csv(\"/Users/emma/IDS706-Final-Project/Datasets/tmdb_5000_movies.csv\")"
   ]
  },
  {
   "cell_type": "code",
   "execution_count": 13,
   "metadata": {},
   "outputs": [
    {
     "data": {
      "text/plain": [
       "Index(['budget', 'genres', 'homepage', 'id', 'keywords', 'original_language',\n",
       "       'original_title', 'overview', 'popularity', 'production_companies',\n",
       "       'production_countries', 'release_date', 'revenue', 'runtime',\n",
       "       'spoken_languages', 'status', 'tagline', 'title', 'vote_average',\n",
       "       'vote_count'],\n",
       "      dtype='object')"
      ]
     },
     "execution_count": 13,
     "metadata": {},
     "output_type": "execute_result"
    }
   ],
   "source": [
    "movie.columns"
   ]
  },
  {
   "cell_type": "code",
   "execution_count": 14,
   "metadata": {},
   "outputs": [],
   "source": [
    "movie = movie[[\"id\", \"genres\", \"keywords\", \"popularity\", \"release_date\", \"vote_average\", \"vote_count\", \"runtime\"]]"
   ]
  },
  {
   "cell_type": "code",
   "execution_count": 15,
   "metadata": {},
   "outputs": [],
   "source": [
    "movie[\"genres\"] = movie[\"genres\"].apply(eval)\n",
    "movie[\"keywords\"] = movie[\"keywords\"].apply(eval)"
   ]
  },
  {
   "cell_type": "code",
   "execution_count": 16,
   "metadata": {},
   "outputs": [
    {
     "data": {
      "text/plain": [
       "[{'id': 28, 'name': 'Action'},\n",
       " {'id': 12, 'name': 'Adventure'},\n",
       " {'id': 14, 'name': 'Fantasy'},\n",
       " {'id': 878, 'name': 'Science Fiction'}]"
      ]
     },
     "execution_count": 16,
     "metadata": {},
     "output_type": "execute_result"
    }
   ],
   "source": [
    "movie[\"genres\"] [0]"
   ]
  },
  {
   "cell_type": "code",
   "execution_count": 17,
   "metadata": {},
   "outputs": [],
   "source": [
    "genre = []\n",
    "for i in range(len(movie[\"genres\"])):\n",
    "    gen = []\n",
    "    for j in range(len(movie[\"genres\"][i])):\n",
    "            gen.append(movie[\"genres\"][i][j][\"name\"])\n",
    "    genre.append(gen)\n",
    "movie[\"genres_list\"] = genre"
   ]
  },
  {
   "cell_type": "code",
   "execution_count": 18,
   "metadata": {},
   "outputs": [],
   "source": [
    "keys = []\n",
    "for i in range(len(movie[\"keywords\"])):\n",
    "    key = []\n",
    "    for j in range(len(movie[\"keywords\"][i])):\n",
    "            key.append(movie[\"keywords\"][i][j][\"name\"])\n",
    "    keys.append(key)\n",
    "movie[\"key\"] = keys"
   ]
  },
  {
   "cell_type": "code",
   "execution_count": 19,
   "metadata": {},
   "outputs": [],
   "source": [
    "movie['year'] = pd.DatetimeIndex(movie['release_date']).year"
   ]
  },
  {
   "cell_type": "code",
   "execution_count": 20,
   "metadata": {},
   "outputs": [
    {
     "data": {
      "text/plain": [
       "False"
      ]
     },
     "execution_count": 20,
     "metadata": {},
     "output_type": "execute_result"
    }
   ],
   "source": [
    "\"True\" in movie.year.isnull()"
   ]
  },
  {
   "cell_type": "code",
   "execution_count": 21,
   "metadata": {},
   "outputs": [
    {
     "data": {
      "text/html": [
       "<div>\n",
       "<style scoped>\n",
       "    .dataframe tbody tr th:only-of-type {\n",
       "        vertical-align: middle;\n",
       "    }\n",
       "\n",
       "    .dataframe tbody tr th {\n",
       "        vertical-align: top;\n",
       "    }\n",
       "\n",
       "    .dataframe thead th {\n",
       "        text-align: right;\n",
       "    }\n",
       "</style>\n",
       "<table border=\"1\" class=\"dataframe\">\n",
       "  <thead>\n",
       "    <tr style=\"text-align: right;\">\n",
       "      <th></th>\n",
       "      <th>id</th>\n",
       "      <th>genres</th>\n",
       "      <th>keywords</th>\n",
       "      <th>popularity</th>\n",
       "      <th>release_date</th>\n",
       "      <th>vote_average</th>\n",
       "      <th>vote_count</th>\n",
       "      <th>runtime</th>\n",
       "      <th>genres_list</th>\n",
       "      <th>key</th>\n",
       "      <th>year</th>\n",
       "    </tr>\n",
       "  </thead>\n",
       "  <tbody>\n",
       "    <tr>\n",
       "      <th>0</th>\n",
       "      <td>19995</td>\n",
       "      <td>[{'id': 28, 'name': 'Action'}, {'id': 12, 'nam...</td>\n",
       "      <td>[{'id': 1463, 'name': 'culture clash'}, {'id':...</td>\n",
       "      <td>150.437577</td>\n",
       "      <td>2009-12-10</td>\n",
       "      <td>7.2</td>\n",
       "      <td>11800</td>\n",
       "      <td>162.0</td>\n",
       "      <td>[Action, Adventure, Fantasy, Science Fiction]</td>\n",
       "      <td>[culture clash, future, space war, space colon...</td>\n",
       "      <td>2009.0</td>\n",
       "    </tr>\n",
       "    <tr>\n",
       "      <th>1</th>\n",
       "      <td>285</td>\n",
       "      <td>[{'id': 12, 'name': 'Adventure'}, {'id': 14, '...</td>\n",
       "      <td>[{'id': 270, 'name': 'ocean'}, {'id': 726, 'na...</td>\n",
       "      <td>139.082615</td>\n",
       "      <td>2007-05-19</td>\n",
       "      <td>6.9</td>\n",
       "      <td>4500</td>\n",
       "      <td>169.0</td>\n",
       "      <td>[Adventure, Fantasy, Action]</td>\n",
       "      <td>[ocean, drug abuse, exotic island, east india ...</td>\n",
       "      <td>2007.0</td>\n",
       "    </tr>\n",
       "    <tr>\n",
       "      <th>2</th>\n",
       "      <td>206647</td>\n",
       "      <td>[{'id': 28, 'name': 'Action'}, {'id': 12, 'nam...</td>\n",
       "      <td>[{'id': 470, 'name': 'spy'}, {'id': 818, 'name...</td>\n",
       "      <td>107.376788</td>\n",
       "      <td>2015-10-26</td>\n",
       "      <td>6.3</td>\n",
       "      <td>4466</td>\n",
       "      <td>148.0</td>\n",
       "      <td>[Action, Adventure, Crime]</td>\n",
       "      <td>[spy, based on novel, secret agent, sequel, mi...</td>\n",
       "      <td>2015.0</td>\n",
       "    </tr>\n",
       "  </tbody>\n",
       "</table>\n",
       "</div>"
      ],
      "text/plain": [
       "       id                                             genres  \\\n",
       "0   19995  [{'id': 28, 'name': 'Action'}, {'id': 12, 'nam...   \n",
       "1     285  [{'id': 12, 'name': 'Adventure'}, {'id': 14, '...   \n",
       "2  206647  [{'id': 28, 'name': 'Action'}, {'id': 12, 'nam...   \n",
       "\n",
       "                                            keywords  popularity release_date  \\\n",
       "0  [{'id': 1463, 'name': 'culture clash'}, {'id':...  150.437577   2009-12-10   \n",
       "1  [{'id': 270, 'name': 'ocean'}, {'id': 726, 'na...  139.082615   2007-05-19   \n",
       "2  [{'id': 470, 'name': 'spy'}, {'id': 818, 'name...  107.376788   2015-10-26   \n",
       "\n",
       "   vote_average  vote_count  runtime  \\\n",
       "0           7.2       11800    162.0   \n",
       "1           6.9        4500    169.0   \n",
       "2           6.3        4466    148.0   \n",
       "\n",
       "                                     genres_list  \\\n",
       "0  [Action, Adventure, Fantasy, Science Fiction]   \n",
       "1                   [Adventure, Fantasy, Action]   \n",
       "2                     [Action, Adventure, Crime]   \n",
       "\n",
       "                                                 key    year  \n",
       "0  [culture clash, future, space war, space colon...  2009.0  \n",
       "1  [ocean, drug abuse, exotic island, east india ...  2007.0  \n",
       "2  [spy, based on novel, secret agent, sequel, mi...  2015.0  "
      ]
     },
     "execution_count": 21,
     "metadata": {},
     "output_type": "execute_result"
    }
   ],
   "source": [
    "movie.head(3)"
   ]
  },
  {
   "cell_type": "code",
   "execution_count": 22,
   "metadata": {},
   "outputs": [
    {
     "data": {
      "text/html": [
       "<div>\n",
       "<style scoped>\n",
       "    .dataframe tbody tr th:only-of-type {\n",
       "        vertical-align: middle;\n",
       "    }\n",
       "\n",
       "    .dataframe tbody tr th {\n",
       "        vertical-align: top;\n",
       "    }\n",
       "\n",
       "    .dataframe thead th {\n",
       "        text-align: right;\n",
       "    }\n",
       "</style>\n",
       "<table border=\"1\" class=\"dataframe\">\n",
       "  <thead>\n",
       "    <tr style=\"text-align: right;\">\n",
       "      <th></th>\n",
       "      <th>id</th>\n",
       "      <th>title</th>\n",
       "      <th>cast</th>\n",
       "      <th>crew</th>\n",
       "      <th>director</th>\n",
       "      <th>actor</th>\n",
       "    </tr>\n",
       "  </thead>\n",
       "  <tbody>\n",
       "    <tr>\n",
       "      <th>0</th>\n",
       "      <td>19995</td>\n",
       "      <td>Avatar</td>\n",
       "      <td>[{'cast_id': 242, 'character': 'Jake Sully', '...</td>\n",
       "      <td>[{'credit_id': '52fe48009251416c750aca23', 'de...</td>\n",
       "      <td>[James Cameron]</td>\n",
       "      <td>[Sam Worthington, Zoe Saldana, Sigourney Weave...</td>\n",
       "    </tr>\n",
       "    <tr>\n",
       "      <th>1</th>\n",
       "      <td>285</td>\n",
       "      <td>Pirates of the Caribbean: At World's End</td>\n",
       "      <td>[{'cast_id': 4, 'character': 'Captain Jack Spa...</td>\n",
       "      <td>[{'credit_id': '52fe4232c3a36847f800b579', 'de...</td>\n",
       "      <td>[Gore Verbinski]</td>\n",
       "      <td>[Johnny Depp, Orlando Bloom, Keira Knightley, ...</td>\n",
       "    </tr>\n",
       "    <tr>\n",
       "      <th>2</th>\n",
       "      <td>206647</td>\n",
       "      <td>Spectre</td>\n",
       "      <td>[{'cast_id': 1, 'character': 'James Bond', 'cr...</td>\n",
       "      <td>[{'credit_id': '54805967c3a36829b5002c41', 'de...</td>\n",
       "      <td>[Sam Mendes]</td>\n",
       "      <td>[Daniel Craig, Christoph Waltz, Léa Seydoux, R...</td>\n",
       "    </tr>\n",
       "  </tbody>\n",
       "</table>\n",
       "</div>"
      ],
      "text/plain": [
       "       id                                     title  \\\n",
       "0   19995                                    Avatar   \n",
       "1     285  Pirates of the Caribbean: At World's End   \n",
       "2  206647                                   Spectre   \n",
       "\n",
       "                                                cast  \\\n",
       "0  [{'cast_id': 242, 'character': 'Jake Sully', '...   \n",
       "1  [{'cast_id': 4, 'character': 'Captain Jack Spa...   \n",
       "2  [{'cast_id': 1, 'character': 'James Bond', 'cr...   \n",
       "\n",
       "                                                crew          director  \\\n",
       "0  [{'credit_id': '52fe48009251416c750aca23', 'de...   [James Cameron]   \n",
       "1  [{'credit_id': '52fe4232c3a36847f800b579', 'de...  [Gore Verbinski]   \n",
       "2  [{'credit_id': '54805967c3a36829b5002c41', 'de...      [Sam Mendes]   \n",
       "\n",
       "                                               actor  \n",
       "0  [Sam Worthington, Zoe Saldana, Sigourney Weave...  \n",
       "1  [Johnny Depp, Orlando Bloom, Keira Knightley, ...  \n",
       "2  [Daniel Craig, Christoph Waltz, Léa Seydoux, R...  "
      ]
     },
     "execution_count": 22,
     "metadata": {},
     "output_type": "execute_result"
    }
   ],
   "source": [
    "credit.head(3)"
   ]
  },
  {
   "cell_type": "code",
   "execution_count": 23,
   "metadata": {},
   "outputs": [],
   "source": [
    "df = credit.merge(movie, how = \"left\")"
   ]
  },
  {
   "cell_type": "code",
   "execution_count": 24,
   "metadata": {},
   "outputs": [],
   "source": [
    "df = df.drop([\"cast\", \"crew\", \"genres\", \"keywords\", \"release_date\"], axis = 1)"
   ]
  },
  {
   "cell_type": "code",
   "execution_count": 25,
   "metadata": {},
   "outputs": [],
   "source": [
    "df.to_csv(\"clean_df.csv\")"
   ]
  },
  {
   "cell_type": "code",
   "execution_count": 26,
   "metadata": {},
   "outputs": [],
   "source": [
    "df = pd.read_csv(\"/Users/emma/IDS706-Final-Project/clean_df.csv\")"
   ]
  }
 ],
 "metadata": {
  "kernelspec": {
   "display_name": "Python 3.10.6 ('base')",
   "language": "python",
   "name": "python3"
  },
  "language_info": {
   "codemirror_mode": {
    "name": "ipython",
    "version": 3
   },
   "file_extension": ".py",
   "mimetype": "text/x-python",
   "name": "python",
   "nbconvert_exporter": "python",
   "pygments_lexer": "ipython3",
   "version": "3.10.6"
  },
  "orig_nbformat": 4,
  "vscode": {
   "interpreter": {
    "hash": "5bdb1940799e57e93249d4d6ab73b8f6cf9fef27fd9e9c1e341d4c148192cc38"
   }
  }
 },
 "nbformat": 4,
 "nbformat_minor": 2
}
